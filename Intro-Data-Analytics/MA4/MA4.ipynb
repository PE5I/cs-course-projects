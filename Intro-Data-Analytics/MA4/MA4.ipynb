{
 "cells": [
  {
   "cell_type": "markdown",
   "metadata": {},
   "source": [
    "# [CptS 215 Data Analytics Systems and Algorithms](https://piazza.com/wsu/fall2017/cpts215/home)\n",
    "[Washington State University](https://wsu.edu)\n",
    "\n",
    "[Gina Sprint](http://eecs.wsu.edu/~gsprint/)\n",
    "## MA4 Queue Analysis (50 pts)\n",
    "<mark>Due:</mark>\n",
    "\n",
    "### Learner Objectives\n",
    "At the conclusion of this micro assignment, participants should be able to:\n",
    "* Analyze stack and queue data structures for efficiency\n",
    "* Implement a queue using two stacks\n",
    "* Compare/contrast different implementations of a queue ADT\n",
    "\n",
    "### Prerequisites\n",
    "Before starting this micro assignment, participants should be able to:\n",
    "* Write object oriented Python code\n",
    "* Write Markdown and code cells in Jupyter Notebook\n",
    "* Understand the stack ADT and implement a stack\n",
    "* Understand the queue ADT and implement a queue\n",
    "\n",
    "### Acknowledgments\n",
    "Content used in this assignment is based upon information in the following sources:\n",
    "* Carl Kingsford's [Basic Data Structures](https://www.engage-csedu.org/find-resources/problem-set-1-basic-data-structures) problem set."
   ]
  },
  {
   "cell_type": "markdown",
   "metadata": {
    "collapsed": true
   },
   "source": [
    "## Overview and Requirements\n",
    "For this micro assignment, you are going to download this Jupyter Notebook and answer the following questions. Your answer for a problem should be in a cell *immediately* after the problem cell. *Do not modify the problem cell.*\n",
    "\n",
    "We are going to explore the efficiency of two different queue implementations. This micro assignment includes conceptional questions and programming.\n",
    "\n",
    "### Conceptual Questions\n",
    "Suppose you are given a (strange) computer that can only perform the following instructions (in addition to if and while):\n",
    "* `S = create_stack()` create stack makes a new stack `S`\n",
    "* `i = S.pop()` removes the top item from stack `S` and places it in variable `i`\n",
    "* `S.push(i)` makes item `i` the top item in stack `S`\n",
    "\n",
    "Solve the following problems and *justify* your answers:\n",
    "1. (10 pts) Show how you can use these operations to implement a queue (operations `Q = create_queue()`, `enqueue(i)`, `i = dequeue()`)\n",
    "    * A picture might help to explain your answer\n",
    "    * Hint: take a look at the following image:\n",
    "<img src=\"http://www.algoqueue.com/algoqueue/members/get_uploaded_image.load/149\" width=\"500\">\n",
    "(image from [http://www.algoqueue.com/algoqueue/members/get_uploaded_image.load/149](http://www.algoqueue.com/algoqueue/members/get_uploaded_image.load/149))\n",
    "1. (5 pts) What's the worst case running time of your dequeue implementation?\n",
    "1. (5 pts) Over a series of `n` enqueues followed by `n` dequeues, how many `pop()` operations does your implementation perform?\n",
    "\n",
    "### Implementation Questions\n",
    "Write a program that implements a queue using a standard list implementation (see [M&R 3.12](http://interactivepython.org/runestone/static/pythonds/BasicDS/ImplementingaQueueinPython.html)) and a queue using your solution to conceptual question #1. For the latter, you must implement a stack using a standard list implementation (see [M&R 3.5](http://interactivepython.org/runestone/static/pythonds/BasicDS/ImplementingaStackinPython.html)).\n",
    "\n",
    "Generate a sequence of `enqueue`s and `dequeue`s to test your two queue implementations. To generate the test sequence, randomly `enqueue` and `dequeue` strings from [words.txt](https://raw.githubusercontent.com/gsprint23/cpts215/master/microassignments/files/words.txt), a file containing all 118,309 valid crossword puzzle words, one on each line. Evaluate the differences between the two implementations by performing the following:\n",
    "1. Using [`timeit()`](https://docs.python.org/3/library/timeit.html), compare the running time for each queue implementation operating on your test sequence. Vary the size of your test sequence.\n",
    "    * Note: Make sure you are using the same test sequence for each implementation! Also, remove all frivolous code from your implementations (e.g. `print()` statements), as these can affect the timing!\n",
    "1. Write code to test your answer to conceptual question #2. Write up your observations.\n",
    "1. Write code to test your answer to conceptual question #3. Write up your observations."
   ]
  },
  {
   "cell_type": "markdown",
   "metadata": {},
   "source": [
    "# Conceptual Questions Answer/Reponses\n",
    "(1) We can use two stacks for implementing a queue.\n",
    "    \n",
    "```\n",
    "stack_1 = create_stack()\n",
    "stack_2 = create_stack()\n",
    "```\n",
    "\n",
    "When we initially push data into `stack_1`, the first item will be at the bottom while the last item is on the top (LIFO order). By using a second stack, we can reverse this order again by push()'ing all of the pop() operations from `stack_1` to `stack_2`. By doing this, we rearrange the data in `stack_2` in the order of which they were push() in `stack_1`, so when you pop() `stack_2`, you get items in a FIFO-order. That is: the first item which was push() in `stack_1` is the first item that is pop() from `stack_2`, the second item which was push() in `stack_1` is the first item that is pop() from `stack_2`, ... etc.\n",
    "\n",
    "\n",
    "```\n",
    "stack_1.push(data)\n",
    "... # push all data into stack_1\n",
    "stack_2.push(stack_1.pop())\n",
    "... # then push all the data from stack_1 into stack_2 using the pop() data from stack_1\n",
    "stack_2.pop() # now that all the data is in stack_2, pop()'ing stack_2 should return all the items in a nature of the queue (FIFO)\n",
    "```\n",
    "(2) Worst case of dequeuing with two stacks should be O(n). This is because you have to transfer all of the data into the first stack with push(), then pop() them from the first stack as you push() the pop()'ed item from the first stack to the second stack. Then to dequeue, you simply pop() `stack_2`. All these operations are linear in nature, and so their total time complexity should amount to something resembling a linear trend O(n).\n",
    "\n",
    "(3) It would be 2n. The first set of pop() is for `stack_1` to transfer data to the second stack, which requires n pop(), then the second set of pop() is for `stack_2` which requires another n-pop(). Add them together $n+n$ and we get $2n$ total pop() for the implementation."
   ]
  },
  {
   "cell_type": "code",
   "execution_count": 186,
   "metadata": {},
   "outputs": [
    {
     "name": "stdout",
     "output_type": "stream",
     "text": [
      "For data_size = 100, 1000, 100000, it took the stack implementation of the queue: 0.000592250, 0.001280191, 0.110734523 seconds respectively to run.\n",
      "For data_size = 100, 1000, 100000, it took the queue implementation: 0.000243300, 0.001185105, 2.924262585 seconds respectively to run.\n"
     ]
    }
   ],
   "source": [
    "class Queue:\n",
    "    def __init__(self):\n",
    "        self.items = []\n",
    "\n",
    "    def isEmpty(self):\n",
    "        return self.items == []\n",
    "\n",
    "    def enqueue(self, item):\n",
    "        self.items.insert(0,item)\n",
    "\n",
    "    def dequeue(self):\n",
    "        return self.items.pop()\n",
    "\n",
    "    def size(self):\n",
    "        return len(self.items)\n",
    "    \n",
    "class Stack:\n",
    "    def __init__(self):\n",
    "        self.items = []\n",
    "\n",
    "    def isEmpty(self):\n",
    "        return self.items == []\n",
    "\n",
    "    def push(self, item):\n",
    "        self.items.append(item)\n",
    "\n",
    "    def pop(self):\n",
    "        return self.items.pop()\n",
    "\n",
    "    def peek(self):\n",
    "        return self.items[len(self.items)-1]\n",
    "\n",
    "    def size(self):\n",
    "        return len(self.items)\n",
    "\n",
    "def setup_list():\n",
    "    global wordlist\n",
    "    wordlist = open('words.txt', 'r')\n",
    "\n",
    "\n",
    "def run_queue(data_size):\n",
    "    queue = Queue()\n",
    "    \n",
    "    # Populate the queue\n",
    "    j = 0\n",
    "    for i in wordlist:\n",
    "        if(j >= data_size): break\n",
    "        queue.enqueue(i)\n",
    "        j += 1\n",
    "        \n",
    "    # Dequeue\n",
    "    for i in range(0,data_size):\n",
    "        queue.dequeue()\n",
    "    \n",
    "def run_stack(data_size):\n",
    "    stack_1 = Stack()\n",
    "    stack_2 = Stack()\n",
    "    \n",
    "    # Populate initial stack with data\n",
    "    j = 0\n",
    "    for i in wordlist:\n",
    "        if(j >= data_size): break\n",
    "        stack_1.push(i)\n",
    "        j += 1\n",
    "    # Move data from initial stack to second stack\n",
    "    for i in range(0,data_size):\n",
    "        stack_2.push(stack_1.pop())\n",
    "                   \n",
    "    # Dequeue the second stack\n",
    "    for i in range(0,data_size):\n",
    "        stack_2.pop()\n",
    "                   \n",
    "if __name__ == '__main__':\n",
    "    import timeit\n",
    "    \n",
    "    time_stack_1 = timeit.timeit(\"run_stack(100), setup_list()\", setup=\"from __main__ import setup_list, run_stack\", number=1)\n",
    "    time_stack_2 = timeit.timeit(\"run_stack(1000), setup_list()\", setup=\"from __main__ import setup_list, run_stack\", number=1)\n",
    "    time_stack_3 = timeit.timeit(\"run_stack(100000), setup_list()\", setup=\"from __main__ import setup_list, run_stack\", number=1)\n",
    "                   \n",
    "    time_queue_1 = timeit.timeit(\"run_queue(100), setup_list()\", setup=\"from __main__ import setup_list, run_queue\", number=1)\n",
    "    time_queue_2 = timeit.timeit(\"run_queue(1000), setup_list()\", setup=\"from __main__ import setup_list, run_queue\", number=1)\n",
    "    time_queue_3 = timeit.timeit(\"run_queue(100000), setup_list()\", setup=\"from __main__ import setup_list, run_queue\", number=1)\n",
    "    \n",
    "    print(\"For data_size = 100, 1000, 100000, it took the stack implementation of the queue: %0.9f, %0.9f, %0.9f seconds respectively to run.\" %(time_stack_1,time_stack_2,time_stack_3))\n",
    "    print(\"For data_size = 100, 1000, 100000, it took the queue implementation: %0.9f, %0.9f, %0.9f seconds respectively to run.\" %(time_queue_1,time_queue_2,time_queue_3))"
   ]
  },
  {
   "cell_type": "code",
   "execution_count": 185,
   "metadata": {},
   "outputs": [
    {
     "name": "stdout",
     "output_type": "stream",
     "text": [
      "n=1000, time=0.002320100\n",
      "n=10000, time=0.016928340\n",
      "n=100000, time=0.113570201\n"
     ]
    }
   ],
   "source": [
    "# Answering implementation 2\n",
    "\n",
    "setup_list()\n",
    "time_stack_1 = timeit.timeit(\"run_stack(1000), setup_list()\", setup=\"from __main__ import setup_list, run_stack\", number=1)\n",
    "time_stack_2 = timeit.timeit(\"run_stack(10000), setup_list()\", setup=\"from __main__ import setup_list, run_stack\", number=1)\n",
    "time_stack_3 = timeit.timeit(\"run_stack(100000), setup_list()\", setup=\"from __main__ import setup_list, run_stack\", number=1)\n",
    "\n",
    "print(\"n=1000, time=%0.9f\" %time_stack_1)\n",
    "print(\"n=10000, time=%0.9f\" %time_stack_2)\n",
    "print(\"n=100000, time=%0.9f\" %time_stack_3)"
   ]
  },
  {
   "cell_type": "markdown",
   "metadata": {},
   "source": [
    "### Answer to implementation 2\n",
    "As we see, the time in relation to the size of data appears to be linear. For 1000 items, we have 0.002320100 seconds. For 10,000 items, we have 0.016928340. And lastly for 100,000 items, we have 0.113570201. The time increases by what appears to be a factor of ~7. Thus the time complexity is said to be linear, O(n)."
   ]
  },
  {
   "cell_type": "code",
   "execution_count": null,
   "metadata": {
    "collapsed": true
   },
   "outputs": [],
   "source": [
    "def pop_in_stack(data_size):\n",
    "    stack_1 = Stack()\n",
    "    stack_2 = Stack()\n",
    "    \n",
    "    # Populate initial stack with data\n",
    "    j = 0\n",
    "    for i in wordlist:\n",
    "        if(j >= data_size): break\n",
    "        stack_1.push(i)\n",
    "        j += 1\n",
    "    \n",
    "    sum_of_pop = 0\n",
    "    # Move data from initial stack to second stack\n",
    "    for i in range(0,data_size):\n",
    "        stack_2.push(stack_1.pop())\n",
    "        sum_of_pop += 1\n",
    "        \n",
    "    # Dequeue the second stack\n",
    "    for i in range(0,data_size):\n",
    "        stack_2.pop()\n",
    "        sum_of_pop += 1\n",
    "    \n",
    "    # in other words, data_size + data_size = sum_of_pop\n",
    "    return sum_of_pop\n",
    "\n",
    "# Answering implementation question 3\n",
    "n = 10\n",
    "retval = pop_in_stack(n)\n",
    "print(retval)\n",
    "\n",
    "n = 100\n",
    "retval = pop_in_stack(n)\n",
    "print(retval)\n",
    "\n",
    "n = 200\n",
    "retval = pop_in_stack(n)\n",
    "print(retval)"
   ]
  },
  {
   "cell_type": "markdown",
   "metadata": {},
   "source": [
    "### Answer to implementation 3.\n",
    "As we see in the body of pop_in_stack() (a modified run_stack()), the pop operations occur twice in for loops that runs from 0 to data_size (which is also n-data). So, we could think of sum_of_pop as just a summation of how many times the loops iterate which is simply `data_size + data_size = 2*data_size`."
   ]
  },
  {
   "cell_type": "markdown",
   "metadata": {},
   "source": [
    "## Bonus (5 pts)\n",
    "Perform additional analysis and comparisons of your two queue implementations above to the following:\n",
    "1. Linked lists implementations of the stacks and queue (you must write the implementation yourself)\n",
    "1. Python's `deque` container from `collections`\n",
    "\n",
    "Include `timeit()` results and a write up of your observations."
   ]
  },
  {
   "cell_type": "markdown",
   "metadata": {},
   "source": [
    "## Submitting Assignments\n",
    "1.\tUse the Blackboard tool https://learn.wsu.edu to submit your assignment. You will submit your code to the corresponding programming assignment under the \"Content\" tab. You must upload your solutions as `<your last name>_ma4.zip` by the due date and time.\n",
    "2.\tYour .zip file should contain your .ipynb file and a .html file representing your Notebook as a webpage (File->Download as->HTML). Also include [words.txt](https://raw.githubusercontent.com/gsprint23/cpts215/master/microassignments/files/words.txt) in your .zip file."
   ]
  },
  {
   "cell_type": "markdown",
   "metadata": {},
   "source": [
    "## Grading Guidelines\n",
    "This assignment is worth 50 points + 5 points bonus. Your assignment will be evaluated based on a successful compilation and adherence to the program requirements. We will grade according to the following criteria:\n",
    "* 20 pts for answering the conception questions\n",
    "* 5 pts for correct implementation of the list-based queue\n",
    "* 10 pts for correct implementation of the stack-based queue\n",
    "* 5 pts for `timeit()` results\n",
    "* 5 pts for observation write ups\n",
    "* 5 pts for for adherence to proper programming style and comments established for the class"
   ]
  }
 ],
 "metadata": {
  "anaconda-cloud": {},
  "kernelspec": {
   "display_name": "Python 3",
   "language": "python",
   "name": "python3"
  },
  "language_info": {
   "codemirror_mode": {
    "name": "ipython",
    "version": 3
   },
   "file_extension": ".py",
   "mimetype": "text/x-python",
   "name": "python",
   "nbconvert_exporter": "python",
   "pygments_lexer": "ipython3",
   "version": "3.6.3"
  }
 },
 "nbformat": 4,
 "nbformat_minor": 1
}
