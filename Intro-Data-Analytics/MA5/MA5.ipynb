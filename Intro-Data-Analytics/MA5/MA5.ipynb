{
 "cells": [
  {
   "cell_type": "markdown",
   "metadata": {},
   "source": [
    "# [CptS 215 Data Analytics Systems and Algorithms](https://piazza.com/wsu/fall2017/cpts215/home)\n",
    "[Washington State University](https://wsu.edu)\n",
    "\n",
    "[Gina Sprint](http://eecs.wsu.edu/~gsprint/)\n",
    "## MA5 Tree Practice (50 pts)\n",
    "<mark>Due:</mark>\n",
    "\n",
    "### Learner Objectives\n",
    "At the conclusion of this micro assignment, participants should be able to:\n",
    "* Implement/analyze trees\n",
    "    * Binary trees\n",
    "    * Binary search trees\n",
    "    * AVL trees\n",
    "\n",
    "### Prerequisites\n",
    "Before starting this micro assignment, participants should be able to:\n",
    "* Write object oriented Python code\n",
    "* Write Markdown and code cells in Jupyter Notebook\n",
    "* Perform algorithm analysis\n",
    "\n",
    "### Acknowledgments\n",
    "Content used in this assignment is based upon information in the following sources:\n",
    "* [Data Structures: Abstraction and Design Using Java](http://www.wiley.com/WileyCDA/WileyTitle/productCd-EHEP001607.html) by Koffman and Wolfgang"
   ]
  },
  {
   "cell_type": "markdown",
   "metadata": {
    "collapsed": true
   },
   "source": [
    "## Overview and Requirements\n",
    "For this micro assignment, you are going to download this Jupyter Notebook and answer the following questions. Your answer for a problem should be in a cell *immediately* after the problem cell. *Do not modify the problem cell.*\n",
    "\n",
    "We are going to solve several problems related to trees and their efficiency. This micro assignment includes conceptional questions and programming.\n",
    "\n",
    "### Conceptual Questions\n",
    "Solve the following problems and *justify* your answers:\n",
    "1. For the following binary tree:\n",
    "<img src=\"https://raw.githubusercontent.com/gsprint23/cpts215/master/microassignments/figures/ma5_tree.png\" width=\"400\"/>\n",
    "    1. (2 pts) Is the tree full? \n",
    "    1. (2 pts) Is the tree complete?\n",
    "    1. (2 pts) What is the tree's height?\n",
    "    1. List the nodes in the tree in the order they would be visited during a:\n",
    "        1. (4 pts) Pre-order traversal\n",
    "        1. (4 pts) Level-order traversal\n",
    "        1. (4 pts) Post-order traversal\n",
    "        1. (4 pts) In-order traversal\n",
    "        \n",
    "1. (2 pts) What is the time complexity to search a full BST?\n",
    "1. The following questions refer to the same BST. The operations are cumulative:\n",
    "    1. (2 pts) Show the BST that would result from inserting the items 35, 20, 30, 50, 45, 60, 18, 25 in this sequence.\n",
    "    1. (2 pts) Show the BST that would result after removing item 35 (promote in order successor).\n",
    "    1. (2 pts) Show the BST that would result after removing item 18 (promote in order successor).\n",
    "    1. (2 pts) How would the trees in the previous problems look differently if we promote in order predecessors instead of successors?\n",
    "1. (2 pts) Given the following tree, perform the appropriate rotations to bring it back into balance:\n",
    "<img src=\"http://interactivepython.org/runestone/static/pythonds/_images/rotexer1.png\" width=\"150\"/>\n",
    "(image from [http://interactivepython.org/runestone/static/pythonds/_images/rotexer1.png](http://interactivepython.org/runestone/static/pythonds/_images/rotexer1.png))\n",
    "\n",
    "### Implementation Question\n",
    "Write a program that implements and tests an AVL tree `remove(item)` method. This method accepts an item to remove. If the item is in the tree, the method removes the item, re-balances the tree, and returns `True`. If the item is not in the tree, `False` is returned."
   ]
  },
  {
   "cell_type": "markdown",
   "metadata": {},
   "source": [
    "# Answers\n",
    "\n",
    "1. Problem (1)\n",
    "    1. No, the tree is not full because the bottom level is not full\n",
    "    1. Yes, the tree is complete. The next to bottom level is full, and the data at the bottom level is inserted from left to right since 'X' and 'Y' occupy the left and right child of the left-most node '1.'\n",
    "    1. The height of the tree is 4 because the maximum level from the root to a bttom-level node is 4.\n",
    "    1. List the nodes in the tree in the order they would be visited during a:\n",
    "        1. PreOrder Traversal: *,A,1,X,Y,2,B,3,4\n",
    "        1. LevelOrder: *,A,B,1,2,3,4,X,Y\n",
    "        1. PostOrder: X,Y,1,2,A,3,4,B,*\n",
    "        1. InOrder: X,1,Y,A,2,*,3,B,4\n",
    "1. What is the time complexity of a full BST?\n",
    "    1. O(log(n))\n",
    "\n",
    "1. The following questions refer to the same BST. The operations are cumulative:\n",
    "    1. 35 would be the root node. \n",
    "    \n",
    "    In the left subtree, we have: 20 is the left child of 35. 18 would be the left child of 20. 30 would be the right child of 20. 25 would be a left child of 30.\n",
    "    \n",
    "    In the right subtree, we have: 50 would be the right child of 35. 45 a left child of 50. 60 a right child of 50. \n",
    "    (I don't have the tools to \"show\" this on JN.\n",
    "    \n",
    "    1. The smallest value node in the right subtree of 35 would take its place. In this case, that is 45.\n",
    "    \n",
    "    For the left subtree: 20 is relinked as the left child of 45. All other structure stays the same.\n",
    "    \n",
    "    For the right subtree: 50 is linked as a right child of 45. All other structure as in (a) stays the same, node containing 45 is removed as a left child of 50.\n",
    "    1. The subtree is left entirely the same as in (b), with the node containing 18 not being included.\n",
    "    1. In the successor order, we take the node containing the smallest data in the right subtree to replace the root node. In predecessors, we take the node with the largest data in the left subtree to replace the root node.\n",
    "1. Given the following tree, perform the appropriate rotations to bring it back into balance."
   ]
  },
  {
   "cell_type": "code",
   "execution_count": 6,
   "metadata": {},
   "outputs": [
    {
     "name": "stdout",
     "output_type": "stream",
     "text": [
      "HI\n"
     ]
    }
   ],
   "source": [
    "# implementing an AVL tree\n",
    "class Node:\n",
    "    '''\n",
    "    class Node implements a structure that is required for a Tree\n",
    "    in that it has a left and right links, and space for the data itself\n",
    "    '''\n",
    "    def __init__(self, data = None):\n",
    "        '''\n",
    "        self.left points to the left child of the node\n",
    "        self.right points to the right child of the node\n",
    "        self.data contains the data of the node\n",
    "        '''\n",
    "        self.left = None\n",
    "        self.right = None\n",
    "        self.data = data\n",
    "\n",
    "class AVL_Tree(Node):\n",
    "    def __init__(self, root = None):\n",
    "        self.root = root\n",
    "    \n",
    "    def get_height_left(self, cur_height):\n",
    "        '''\n",
    "        get_height_left() returns the height of the left subtree by recursion\n",
    "        '''\n",
    "        pass\n",
    "    \n",
    "    def get_height_right(self, cur_height):\n",
    "        '''\n",
    "        get_height_right() returns the height of the right subtree by recursion\n",
    "        '''\n",
    "        pass\n",
    "    \n",
    "    \n",
    "    def get_balance_factor(self):\n",
    "        '''\n",
    "        get_balance_factor() takes the difference of the height of the left subtree and \n",
    "        the height of the right subtree and returns that. If the root \n",
    "        '''\n",
    "        bf = get_height_left - get_height_right\n",
    "        if(bf < 0):\n",
    "            bf *= -1\n",
    "            \n",
    "        return bf\n",
    "    \n",
    "    def remove(self, data = None):\n",
    "        '''\n",
    "        remove() takes as argument a data to delete, it will then traverse the AVL Tree\n",
    "        to find a node matching the data, removes it, rebalances the Tree accordingly, and\n",
    "        then return True. False is returned if the data is not found in the Tree.\n",
    "        '''\n",
    "        if (data != None):\n",
    "            pass\n",
    "        else:\n",
    "            print(\"No data was supplied!\")\n",
    "            \n",
    "tree = AVL_Tree()\n",
    "node = Node(35)\n",
    "tree.root = node"
   ]
  },
  {
   "cell_type": "markdown",
   "metadata": {},
   "source": [
    "## Bonus (6 pts)\n",
    "Read about [Huffman coding](http://www.geeksforgeeks.org/greedy-algorithms-set-3-huffman-coding/).\n",
    "1. (1 pt) In a Huffman tree, the item with the highest frequency of occurrence will have a code with what trait?\n",
    "1. (5 pts) In the table below, fill in the code for each symbol shown in the following Huffman tree:\n",
    "<img src=\"https://raw.githubusercontent.com/gsprint23/cpts215/master/microassignments/figures/huffman_tree.png\" width=\"600\"/>\n",
    "\n",
    "|Symbol|Code|\n",
    "|-|-|\n",
    "|Space| |\n",
    "|a| |\n",
    "|e| |\n",
    "|h| |\n",
    "|i| |\n",
    "|n| |\n",
    "|o| |\n",
    "|r| |\n",
    "|s| |\n",
    "|t| |"
   ]
  },
  {
   "cell_type": "markdown",
   "metadata": {},
   "source": [
    "|Symbol|Code|\n",
    "|-|-|\n",
    "|Space| |\n",
    "|a| |\n",
    "|e| |\n",
    "|h| |\n",
    "|i| |\n",
    "|n| |\n",
    "|o| |\n",
    "|r| |\n",
    "|s| |\n",
    "|t| |"
   ]
  },
  {
   "cell_type": "markdown",
   "metadata": {},
   "source": [
    "## Submitting Assignments\n",
    "1.\tUse the Blackboard tool https://learn.wsu.edu to submit your assignment. You will submit your code to the corresponding programming assignment under the \"Content\" tab. You must upload your solutions as `<your last name>_ma5.zip` by the due date and time.\n",
    "2.\tYour .zip file should contain your .ipynb file and a .html file representing your Notebook as a webpage (File->Download as->HTML)."
   ]
  },
  {
   "cell_type": "markdown",
   "metadata": {},
   "source": [
    "## Grading Guidelines\n",
    "This assignment is worth 50 points + 6 points bonus. Your assignment will be evaluated based on a successful compilation and adherence to the program requirements. We will grade according to the following criteria:\n",
    "* 34 pts for answering the conception questions\n",
    "* 12 pts for correct implementation of AVL tree `remove(item)`\n",
    "* 4 pts for for adherence to proper programming style and comments established for the class"
   ]
  }
 ],
 "metadata": {
  "anaconda-cloud": {},
  "kernelspec": {
   "display_name": "Python 3",
   "language": "python",
   "name": "python3"
  },
  "language_info": {
   "codemirror_mode": {
    "name": "ipython",
    "version": 3
   },
   "file_extension": ".py",
   "mimetype": "text/x-python",
   "name": "python",
   "nbconvert_exporter": "python",
   "pygments_lexer": "ipython3",
   "version": "3.6.4"
  }
 },
 "nbformat": 4,
 "nbformat_minor": 1
}
